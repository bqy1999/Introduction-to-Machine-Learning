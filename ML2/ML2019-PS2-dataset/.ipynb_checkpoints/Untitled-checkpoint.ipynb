{
 "cells": [
  {
   "cell_type": "code",
   "execution_count": 513,
   "metadata": {},
   "outputs": [],
   "source": [
    "import pandas as pd\n",
    "import numpy as np"
   ]
  },
  {
   "cell_type": "code",
   "execution_count": 514,
   "metadata": {},
   "outputs": [],
   "source": [
    "def sigmoid(inX):\n",
    "    return 1.0/(1+np.exp(-inX))"
   ]
  },
  {
   "cell_type": "code",
   "execution_count": 515,
   "metadata": {},
   "outputs": [],
   "source": [
    "def LogisticRegression(dataMatrix, classLabels): #改进版随机梯度上升，在每次迭代中随机选择样本来更新权重，并且随迭代次数增加，权重变化越小。\n",
    "    m,n = np.shape(dataMatrix)\n",
    "    weights = np.ones((n,1))\n",
    "    epoch = 1000\n",
    "    # print(m)\n",
    "    # print(n)\n",
    "    # print(dataMatrix)\n",
    "    # print(classLabels)\n",
    "    # print(weights)\n",
    "    for j in range(epoch): #迭代\n",
    "        dataIndex=[i for i in range(m)]\n",
    "        for i in range(m): #随机遍历每一行\n",
    "            alpha=4/(1+j+i)+0.0001  #随迭代次数增加，权重变化越小。\n",
    "            randIndex=int(np.random.uniform(0,len(dataIndex)))  #随机抽样\n",
    "            # print(dataMatrix[randIndex])\n",
    "            # print(weights)\n",
    "            # print(dataMatrix[randIndex]*weights)\n",
    "            h=sigmoid(sum(dataMatrix[randIndex]*weights))\n",
    "            error=classLabels[randIndex]-h\n",
    "            error = int(error)\n",
    "            weights=weights+alpha*error*dataMatrix[randIndex].transpose()\n",
    "            del(dataIndex[randIndex]) #去除已经抽取的样本\n",
    "    # print(h)\n",
    "    return weights"
   ]
  },
  {
   "cell_type": "code",
   "execution_count": 516,
   "metadata": {},
   "outputs": [],
   "source": [
    "def LoadData(filename):\n",
    "    numFeat = len(open(filename).readline().split(','))-1\n",
    "    # print(numFeat)\n",
    "    dataMat = []\n",
    "    labelMat = []\n",
    "    fr = open(filename)\n",
    "    for line in fr.readlines()[1:]:\n",
    "        lineArr = []\n",
    "        curLine = line.strip().split(',')\n",
    "        for i in range(numFeat):\n",
    "            lineArr.append(float(curLine[i]))\n",
    "        dataMat.append([1.0]+lineArr)   #前面的1，表示方程的常量。比如两个特征X1,X2，共需要三个参数，W1+W2*X1+W3*X2\n",
    "        labelMat.append(int(curLine[-1]))\n",
    "    return dataMat,labelMat"
   ]
  },
  {
   "cell_type": "code",
   "execution_count": 517,
   "metadata": {},
   "outputs": [],
   "source": [
    "def Vote(dataMat):\n",
    "    m, n = np.shape(dataMat)\n",
    "    predict = []\n",
    "    ret = [0]*m\n",
    "\n",
    "    # print(predict)\n",
    "    for j in range(m):\n",
    "        predict = np.zeros(26)\n",
    "        for i in range(26):\n",
    "            ret[j] = sigmoid(sum(data_test[j]*parameters[i]))\n",
    "            if ret[j] > 0.5 and ret[j] <= 1:\n",
    "                predict[i] += 1\n",
    "            elif ret[j] >= 0 and ret[j] <= 0.5:\n",
    "                predict[i] -= 1\n",
    "            else :\n",
    "                print(\"Wrong probability\")\n",
    "            ret[j] = predict.index(max(predict))\n",
    "    print(ret)"
   ]
  },
  {
   "cell_type": "code",
   "execution_count": 518,
   "metadata": {},
   "outputs": [
    {
     "name": "stdout",
     "output_type": "stream",
     "text": [
      "[[0.]]\n",
      "[[1.39830764e-38]]\n",
      "[[1.98849182e-15]]\n",
      "[[1.16011528e-19]]\n",
      "[[0.02861065]]\n",
      "[[4.37415082e-20]]\n",
      "[[0.99999971]]\n",
      "[[5.55276821e-27]]\n",
      "[[0.84152277]]\n",
      "[[0.99824646]]\n",
      "[[1.80981704e-12]]\n",
      "[[5.02476667e-13]]\n",
      "[[1.34724315e-51]]\n",
      "[[5.83823585e-37]]\n",
      "[[8.77178561e-05]]\n",
      "[[1.57836972e-30]]\n",
      "[[0.71102592]]\n",
      "[[3.59684814e-59]]\n",
      "[[7.8693423e-25]]\n",
      "[[4.35111268e-10]]\n",
      "[[5.17149851e-10]]\n",
      "[[6.66995145e-28]]\n",
      "[[8.53576019e-05]]\n",
      "[[2.27355042e-58]]\n",
      "[[4.58220189e-17]]\n",
      "[[7.6983621e-07]]\n"
     ]
    },
    {
     "ename": "AttributeError",
     "evalue": "'numpy.ndarray' object has no attribute 'index'",
     "output_type": "error",
     "traceback": [
      "\u001b[0;31m---------------------------------------------------------------------------\u001b[0m",
      "\u001b[0;31mAttributeError\u001b[0m                            Traceback (most recent call last)",
      "\u001b[0;32m<ipython-input-518-30dead5c1366>\u001b[0m in \u001b[0;36m<module>\u001b[0;34m()\u001b[0m\n\u001b[1;32m     18\u001b[0m     \u001b[0;31m# print(weights)\u001b[0m\u001b[0;34m\u001b[0m\u001b[0;34m\u001b[0m\u001b[0m\n\u001b[1;32m     19\u001b[0m \u001b[0;34m\u001b[0m\u001b[0m\n\u001b[0;32m---> 20\u001b[0;31m \u001b[0mVote\u001b[0m\u001b[0;34m(\u001b[0m\u001b[0;34m)\u001b[0m\u001b[0;34m\u001b[0m\u001b[0m\n\u001b[0m",
      "\u001b[0;32m<ipython-input-517-2b8268080e04>\u001b[0m in \u001b[0;36mVote\u001b[0;34m()\u001b[0m\n\u001b[1;32m     15\u001b[0m             \u001b[0;32melse\u001b[0m \u001b[0;34m:\u001b[0m\u001b[0;34m\u001b[0m\u001b[0m\n\u001b[1;32m     16\u001b[0m                 \u001b[0mprint\u001b[0m\u001b[0;34m(\u001b[0m\u001b[0;34m\"Wrong probability\"\u001b[0m\u001b[0;34m)\u001b[0m\u001b[0;34m\u001b[0m\u001b[0m\n\u001b[0;32m---> 17\u001b[0;31m             \u001b[0mret\u001b[0m\u001b[0;34m[\u001b[0m\u001b[0mj\u001b[0m\u001b[0;34m]\u001b[0m \u001b[0;34m=\u001b[0m \u001b[0mpredict\u001b[0m\u001b[0;34m.\u001b[0m\u001b[0mindex\u001b[0m\u001b[0;34m(\u001b[0m\u001b[0mmax\u001b[0m\u001b[0;34m(\u001b[0m\u001b[0mpredict\u001b[0m\u001b[0;34m)\u001b[0m\u001b[0;34m)\u001b[0m\u001b[0;34m\u001b[0m\u001b[0m\n\u001b[0m\u001b[1;32m     18\u001b[0m     \u001b[0mprint\u001b[0m\u001b[0;34m(\u001b[0m\u001b[0mret\u001b[0m\u001b[0;34m)\u001b[0m\u001b[0;34m\u001b[0m\u001b[0m\n",
      "\u001b[0;31mAttributeError\u001b[0m: 'numpy.ndarray' object has no attribute 'index'"
     ]
    }
   ],
   "source": [
    "dataMat, labelMat = LoadData(\"train_set.csv\")\n",
    "dataMat = np.mat(dataMat)\n",
    "labelMat = np.mat(labelMat).transpose()\n",
    "\n",
    "data_test, answer = LoadData(\"test_set.csv\")\n",
    "data_test = np.mat(data_test)\n",
    "answer = np.mat(answer).transpose()\n",
    "\n",
    "parameters = []\n",
    "\n",
    "for i in range(26):\n",
    "    labelMat_mo = np.where(labelMat == i, 1, 0)\n",
    "    # weights=stocGradAscent1(x_train, y_train)\n",
    "    # print(labelMat_mo)\n",
    "    weights=LogisticRegression(dataMat, labelMat_mo)\n",
    "    # plotBestFit(weights)\n",
    "    parameters.append(weights)\n",
    "    # print(weights)\n",
    "\n",
    "Vote(data_test)"
   ]
  },
  {
   "cell_type": "code",
   "execution_count": null,
   "metadata": {},
   "outputs": [],
   "source": []
  }
 ],
 "metadata": {
  "kernelspec": {
   "display_name": "Python 3",
   "language": "python",
   "name": "python3"
  },
  "language_info": {
   "codemirror_mode": {
    "name": "ipython",
    "version": 3
   },
   "file_extension": ".py",
   "mimetype": "text/x-python",
   "name": "python",
   "nbconvert_exporter": "python",
   "pygments_lexer": "ipython3",
   "version": "3.6.5"
  }
 },
 "nbformat": 4,
 "nbformat_minor": 2
}
